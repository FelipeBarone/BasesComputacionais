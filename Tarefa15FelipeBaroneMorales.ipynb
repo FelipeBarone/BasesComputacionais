{
  "nbformat": 4,
  "nbformat_minor": 0,
  "metadata": {
    "colab": {
      "provenance": [],
      "authorship_tag": "ABX9TyPtkrY4+4UhvMDSIvfER/HE",
      "include_colab_link": true
    },
    "kernelspec": {
      "name": "python3",
      "display_name": "Python 3"
    },
    "language_info": {
      "name": "python"
    }
  },
  "cells": [
    {
      "cell_type": "markdown",
      "metadata": {
        "id": "view-in-github",
        "colab_type": "text"
      },
      "source": [
        "<a href=\"https://colab.research.google.com/github/FelipeBarone/BasesComputacionais/blob/master/Tarefa15FelipeBaroneMorales.ipynb\" target=\"_parent\"><img src=\"https://colab.research.google.com/assets/colab-badge.svg\" alt=\"Open In Colab\"/></a>"
      ]
    },
    {
      "cell_type": "markdown",
      "source": [
        "Tarefa 1"
      ],
      "metadata": {
        "id": "kp1Y6Q9qwW_s"
      }
    },
    {
      "cell_type": "code",
      "source": [
        "def estaNoIntervalo(a, b, x):\n",
        "  if x >= a and x <= b:\n",
        "    resposta = True\n",
        "  else:\n",
        "    resposta = False\n",
        "  return resposta\n",
        "\n",
        "print(estaNoIntervalo(a = -2.5, b = 6.3, x = 9.1))\n",
        "\n",
        "print(estaNoIntervalo(a = -10, b = 7, x = 2.2))\n",
        "\n",
        "print(estaNoIntervalo(a = -10, b = 7, x = 3.2))\n",
        "\n",
        "print(estaNoIntervalo(a = -10, b = 7, x = 10.2))\n",
        "\n",
        "print(estaNoIntervalo(a = 67.2, b = 87.2, x = 8.1))"
      ],
      "metadata": {
        "colab": {
          "base_uri": "https://localhost:8080/"
        },
        "id": "Tsxk-E_XwWn9",
        "outputId": "02a76005-6928-475c-8790-bcd9a98729f2"
      },
      "execution_count": 22,
      "outputs": [
        {
          "output_type": "stream",
          "name": "stdout",
          "text": [
            "False\n",
            "True\n",
            "True\n",
            "False\n",
            "False\n"
          ]
        }
      ]
    },
    {
      "cell_type": "code",
      "source": [],
      "metadata": {
        "id": "qkIRJna1y7fW"
      },
      "execution_count": null,
      "outputs": []
    }
  ]
}