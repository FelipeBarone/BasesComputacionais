{
  "nbformat": 4,
  "nbformat_minor": 0,
  "metadata": {
    "colab": {
      "provenance": [],
      "collapsed_sections": [],
      "authorship_tag": "ABX9TyPeAz7sSgCBLX7EmDTa4aCm",
      "include_colab_link": true
    },
    "kernelspec": {
      "name": "python3",
      "display_name": "Python 3"
    },
    "language_info": {
      "name": "python"
    }
  },
  "cells": [
    {
      "cell_type": "markdown",
      "metadata": {
        "id": "view-in-github",
        "colab_type": "text"
      },
      "source": [
        "<a href=\"https://colab.research.google.com/github/FelipeBarone/BasesComputacionais/blob/master/Aula4Tarefa8FelipeBaroneMorales.ipynb\" target=\"_parent\"><img src=\"https://colab.research.google.com/assets/colab-badge.svg\" alt=\"Open In Colab\"/></a>"
      ]
    },
    {
      "cell_type": "markdown",
      "source": [
        "Exercício 1"
      ],
      "metadata": {
        "id": "esXpMde2YY_V"
      }
    },
    {
      "cell_type": "code",
      "execution_count": 16,
      "metadata": {
        "colab": {
          "base_uri": "https://localhost:8080/"
        },
        "id": "hQuiNKNwX7b-",
        "outputId": "98a7889b-a7d4-4593-c7d4-1e3ffd3d12c7"
      },
      "outputs": [
        {
          "output_type": "stream",
          "name": "stdout",
          "text": [
            "Peso normal\n",
            "Acima do peso\n",
            "Obesidade Grau II\n"
          ]
        }
      ],
      "source": [
        "var = {52: 1.58, 83: 1.75, 130: 1.89} #Criei uma lista onde cada valor possui seu correspondente\n",
        "\n",
        "for m, h in var.items(): #Dentro dessa lista, busco em seus itens e repito a conta com cada valor correspodente\n",
        "  imc = m / (h**2) #fórmula aplicada\n",
        "\n",
        "  if (imc < 17):\n",
        "    print(\"Muito abaixo do peso\")\n",
        "  elif imc > 17 and imc <= 18.5:\n",
        "    print(\"Abaixo do peso\")\n",
        "  elif (imc > 18.5 and imc <= 25):\n",
        "    print(\"Peso normal\")\n",
        "  elif (imc > 25 and imc <= 30):\n",
        "    print(\"Acima do peso\")\n",
        "  elif (imc > 30 and imc <= 35):\n",
        "    print(\"Obesidade Grau I\")\n",
        "  elif (imc > 35 and imc <= 40):\n",
        "   print(\"Obesidade Grau II\")\n",
        "  else:\n",
        "    print(\"Obesidade Grau III\")"
      ]
    }
  ]
}