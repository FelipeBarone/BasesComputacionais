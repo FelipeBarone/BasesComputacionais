{
  "nbformat": 4,
  "nbformat_minor": 0,
  "metadata": {
    "colab": {
      "provenance": [],
      "collapsed_sections": [],
      "authorship_tag": "ABX9TyOgeSpnLDY7BNiBHkgPcZVD",
      "include_colab_link": true
    },
    "kernelspec": {
      "name": "python3",
      "display_name": "Python 3"
    },
    "language_info": {
      "name": "python"
    }
  },
  "cells": [
    {
      "cell_type": "markdown",
      "metadata": {
        "id": "view-in-github",
        "colab_type": "text"
      },
      "source": [
        "<a href=\"https://colab.research.google.com/github/FelipeBarone/BasesComputacionais/blob/master/Tarefa4FelipeBaroneMorales_py.ipynb\" target=\"_parent\"><img src=\"https://colab.research.google.com/assets/colab-badge.svg\" alt=\"Open In Colab\"/></a>"
      ]
    },
    {
      "cell_type": "markdown",
      "source": [
        "Tarefa 4 Felipe Barone Morales\n"
      ],
      "metadata": {
        "id": "ElVKQ6WNaSmz"
      }
    },
    {
      "cell_type": "code",
      "execution_count": 35,
      "metadata": {
        "colab": {
          "base_uri": "https://localhost:8080/"
        },
        "id": "oLKwXH9faOIb",
        "outputId": "f6c2f2d0-acb4-4c38-af8f-af76ccc4a282"
      },
      "outputs": [
        {
          "output_type": "stream",
          "name": "stdout",
          "text": [
            "28.716346666666663\n",
            "Os volumes são: A) 0.13718869333333336 B) 4.1866666666666665 C) 28.716346666666663\n",
            "As temperaturas são: A) 14.0 B) 86.0 C) 41.0\n",
            "<module 'numpy' from '/usr/local/lib/python3.7/dist-packages/numpy/__init__.py'>\n"
          ]
        }
      ],
      "source": [
        "import numpy as np\n",
        "\n",
        "#Sabemos que o volume de uma esfera se calcula a partir da expressão: V = (4/3)*pi*r**3\n",
        "\n",
        "#Logo, com isso, calcularemos o volume para os seguintes raios:\n",
        "#a) R=0,32 m, b) R=1 m, c) R=1,9 m.\n",
        "\n",
        "v = (4/3)*3.14\n",
        "\n",
        "r1= v*0.32**3\n",
        "\n",
        "r2= v*1**3\n",
        "\n",
        "r3= v*1.9**3\n",
        "\n",
        "print(r3)\n",
        "print('Os volumes são: A)',r1,'B)',r2,'C)',r3)\n",
        "\n",
        "#Agora, sabemos que a fórmula para calcular fahrenheit para celsius é a seguinte: (TempCelsius*9+32)/5 = TempFahrenheit\n",
        "\n",
        "#Sabendo disso, converta as seguintes temperaturas de celsius para fahrenheit: \n",
        "# a) Tc=−10∘C , b) Tc=30∘C , c) Tc=5∘C\n",
        "\n",
        "\n",
        "TF1 = (-10*9)/5+32\n",
        "TF2 = (30*9)/5+32\n",
        "TF3 = (5*9)/5+32\n",
        "\n",
        "print('As temperaturas são: A)',TF1,'B)', TF2,'C)', TF3)\n"
      ]
    },
    {
      "cell_type": "code",
      "source": [
        "import numpy as np\n",
        "\n",
        "#3) O tamanho do lado c de um triângulo com lados a,b e ângulo θ entre os lados a e b conhecidos. a, b e θ devem estar gravadas em variáveis. \n",
        "\n",
        "#A expressão para isso é conhecida como lei dos cossenos:\n",
        "#c=√a**2+b**2−2abcos(θ)\n",
        "\n",
        "#Calcule: Teste para a) a=1, b=2 e θ=30∘,    b) a=3, b=1 e θ=45∘,     c) a=10, b=11 e θ=15∘\n",
        "\n",
        "\n",
        "c1 = np.sqrt(1**2+2**2-2*1*2*np.cos(30))\n",
        "c2 = np.sqrt(3**2+1**2-2*3*1*np.cos(45))\n",
        "c3 = np.sqrt(10**2+11**2-2*10*11*np.cos(15))\n",
        "\n",
        "print(\"As respostas são: A)\", c1, \"B)\", c2, \"C)\", c3)\n",
        "\n"
      ],
      "metadata": {
        "colab": {
          "base_uri": "https://localhost:8080/"
        },
        "id": "mZ85lvSiknGE",
        "outputId": "793b8c01-2795-4c57-a4fc-f275e108ea70"
      },
      "execution_count": 40,
      "outputs": [
        {
          "output_type": "stream",
          "name": "stdout",
          "text": [
            "As respostas são: A) 2.0935601735917846 B) 2.616881362823623 C) 19.701049231676485\n"
          ]
        }
      ]
    },
    {
      "cell_type": "code",
      "source": [
        "import numpy as np\n",
        "\n",
        "# 4) A série de Fibonacci é uma sequência de números inteiros em que cada número da série é a soma dos dois números anteriores:\n",
        "\n",
        "# 0,1,1,2,3,5,8,13,21,34,55,... \n",
        "\n",
        "# O i-ésimo número pode ser aproximado pela seguinte expressão:\n",
        "\n",
        "# Fi = np.floor((((1+np.sqrt(5))/2)**i-((1-np.sqrt(5))/2)**i)/np.sqrt(5))\n",
        "\n",
        "#Defina: a) i = 30, b) i= 31 e c) i = 32.\n",
        "\n",
        "c = np.sqrt(5)\n",
        "a = (1+c)/2\n",
        "b = (1-c)/2\n",
        "\n",
        "\n",
        "f1 = np.floor((a**30-b**30)/c)\n",
        "\n",
        "f2 = np.floor((a**31-b**31)/c)\n",
        "\n",
        "f3 = np.floor((a**32-b**32)/c)\n",
        "\n",
        "print(\"As sequências são: A)\", f1,\"B)\", f2,\"C)\", f3)\n"
      ],
      "metadata": {
        "colab": {
          "base_uri": "https://localhost:8080/"
        },
        "id": "bU9O35mzmddG",
        "outputId": "b5d64a67-5ce6-4887-aebd-163f461caaa1"
      },
      "execution_count": 49,
      "outputs": [
        {
          "output_type": "stream",
          "name": "stdout",
          "text": [
            "As sequências são: A) 832040.0 B) 1346269.0 C) 2178309.0\n"
          ]
        }
      ]
    },
    {
      "cell_type": "markdown",
      "source": [],
      "metadata": {
        "id": "owbjRLmyarRw"
      }
    }
  ]
}