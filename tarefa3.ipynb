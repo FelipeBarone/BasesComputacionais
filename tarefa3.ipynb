{
  "nbformat": 4,
  "nbformat_minor": 0,
  "metadata": {
    "colab": {
      "provenance": [],
      "authorship_tag": "ABX9TyN6edUVoE9tHowFRocY1kxV",
      "include_colab_link": true
    },
    "kernelspec": {
      "name": "python3",
      "display_name": "Python 3"
    },
    "language_info": {
      "name": "python"
    }
  },
  "cells": [
    {
      "cell_type": "markdown",
      "metadata": {
        "id": "view-in-github",
        "colab_type": "text"
      },
      "source": [
        "<a href=\"https://colab.research.google.com/github/FelipeBarone/BasesComputacionais/blob/master/tarefa3.ipynb\" target=\"_parent\"><img src=\"https://colab.research.google.com/assets/colab-badge.svg\" alt=\"Open In Colab\"/></a>"
      ]
    },
    {
      "cell_type": "markdown",
      "source": [
        "# Tarefa 3\n",
        "Felipe Barone Morales"
      ],
      "metadata": {
        "id": "8ed7eWfDbSgo"
      }
    },
    {
      "cell_type": "code",
      "source": [
        "h1 = 1.5\n",
        "h2 = 12\n",
        "h3 = 24\n",
        "\n",
        "conv_s = 3600\n",
        "\n",
        "\n",
        "segundo = [h1*conv_s, h2*conv_s, h3*conv_s]\n",
        "\n",
        "print(segundo)\n"
      ],
      "metadata": {
        "colab": {
          "base_uri": "https://localhost:8080/"
        },
        "id": "fbvUobUrbodW",
        "outputId": "fab03ac9-e86e-4e68-c93e-4db783efd4c6"
      },
      "execution_count": 12,
      "outputs": [
        {
          "output_type": "stream",
          "name": "stdout",
          "text": [
            "[5400.0, 43200, 86400]\n"
          ]
        }
      ]
    }
  ]
}